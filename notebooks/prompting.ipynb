{
 "cells": [
  {
   "cell_type": "code",
   "execution_count": 12,
   "id": "5224974a",
   "metadata": {},
   "outputs": [],
   "source": [
    "# Import libraries\n",
    "from google import genai\n",
    "from google.genai import types\n",
    "from google.api_core import retry\n",
    "from IPython.display import HTML, Markdown, display\n",
    "\n",
    "# Set up secret credentials\n",
    "from dotenv import load_dotenv \n",
    "load_dotenv()\n",
    "import sys\n",
    "import os"
   ]
  },
  {
   "cell_type": "code",
   "execution_count": null,
   "id": "a2199f84",
   "metadata": {},
   "outputs": [],
   "source": [
    "# Error handling and retry logic not to worry about per-minute quota\n",
    "is_retriable = lambda e: (isinstance(e, genai.errors.APIError) and e.code in {429, 503})\n",
    "\n",
    "genai.models.Models.generate_content = retry.Retry(\n",
    "    predicate=is_retriable)(genai.models.Models.generate_content)"
   ]
  },
  {
   "cell_type": "code",
   "execution_count": 8,
   "id": "a12b001f",
   "metadata": {},
   "outputs": [],
   "source": [
    "# Set up your Google API key imported from .env file\n",
    "GOOGLE_API_KEY = os.getenv(\"GOOGLE_API_KEY\")\n",
    "\n",
    "# Initialize Gemini client\n",
    "client = genai.Client(api_key=GOOGLE_API_KEY)"
   ]
  },
  {
   "cell_type": "code",
   "execution_count": null,
   "id": "f6bce589",
   "metadata": {},
   "outputs": [
    {
     "name": "stdout",
     "output_type": "stream",
     "text": [
      "2025-04-24 12:11:01 URL:https://www.ecb.europa.eu/press/press_conference/monetary-policy-statement/shared/pdf/ecb.ds250417~e613e58d41.es.pdf [140000] -> \"ecb.pdf\" [1]\n"
     ]
    }
   ],
   "source": [
    "# Fetch the data for prompting\n",
    "import requests\n",
    "!wget -nv -O ecb.pdf https://www.ecb.europa.eu/press/press_conference/monetary-policy-statement/shared/pdf/ecb.ds250417~e613e58d41.es.pdf\n",
    "document_file = client.files.upload(file='ecb.pdf')"
   ]
  },
  {
   "cell_type": "markdown",
   "id": "2dbf3a4f",
   "metadata": {},
   "source": [
    "PROMPTING \n",
    "\n",
    "\n",
    "1) *Zero-shot prompting* with parameters set for a slight creativity\n",
    "2) *Few-shot prompting* with parameters set for a strict facticity\n",
    "3) *Chain-of-thought prompting* with parameters set for the out-of-the-box ideas\n"
   ]
  },
  {
   "cell_type": "code",
   "execution_count": 13,
   "id": "acde9198",
   "metadata": {},
   "outputs": [
    {
     "data": {
      "text/markdown": [
       "Here's a summary of the economic policy outlined in the document:\n",
       "\n",
       "**Key Points:**\n",
       "\n",
       "*   **Interest Rate Cut:** The European Central Bank (ECB) has decided to lower its three key interest rates by 25 basis points. This includes lowering the deposit facility rate to 2.25%, the main refinancing operations rate to 2.40%, and the marginal lending facility rate to 2.65%. The change is effective from April 23, 2025.\n",
       "\n",
       "*   **Inflation Target:** The ECB's primary goal is to ensure that inflation stabilizes sustainably at its 2% medium-term target.\n",
       "\n",
       "*   **Data-Dependent Approach:** Due to exceptional uncertainty, the ECB will take a data-dependent and meeting-by-meeting approach to determine the appropriate monetary policy stance. Decisions will be based on the inflation outlook, economic and financial data, underlying inflation dynamics, and the strength of monetary policy transmission.\n",
       "\n",
       "*   **No Pre-Commitment:** The ECB is not pre-committing to a particular rate path.\n",
       "\n",
       "*   **Asset Purchase Programs:** The Asset Purchase Programme (APP) and Pandemic Emergency Purchase Programme (PEPP) portfolios are declining as the Eurosystem no longer reinvests principal payments from maturing securities.\n",
       "\n",
       "*   **Flexibility:** The Governing Council stands ready to adjust all its instruments to ensure inflation stabilizes at 2% and to preserve the smooth functioning of monetary policy transmission. The Transmission Protection Instrument is available to counter disorderly market dynamics.\n",
       "\n",
       "**Economic Assessment:**\n",
       "\n",
       "*   **Inflation:** The disinflation process is on track, with both headline and core inflation declining. Most measures suggest inflation will settle around the 2% target. Wage growth is moderating.\n",
       "*   **Economic Growth:** The euro area economy has shown some resilience, but the outlook for growth has deteriorated due to rising trade tensions. Increased uncertainty is likely to reduce confidence and tighten financing conditions.\n",
       "*   **Risks:** Downside risks to economic growth have increased due to trade tensions, geopolitical tensions, and potential financial market instability. Upside risks include increased defense and infrastructure spending.\n",
       "\n",
       "**Other Considerations:**\n",
       "\n",
       "*   **Fiscal and Structural Policies:** The document emphasizes the importance of fiscal and structural policies to make the euro area economy more productive, competitive, and resilient.\n",
       "*   **Digital Euro:** The document mentions the importance of establishing a legislative framework for the potential introduction of a digital euro.\n",
       "\n",
       "In essence, the ECB is taking a cautious approach, lowering interest rates to support the economy while remaining vigilant about inflation. They are emphasizing flexibility and data-driven decision-making in the face of global uncertainty."
      ],
      "text/plain": [
       "<IPython.core.display.Markdown object>"
      ]
     },
     "execution_count": 13,
     "metadata": {},
     "output_type": "execute_result"
    }
   ],
   "source": [
    "# Zero-shot prompting\n",
    "request = 'Tell me about the economic policy here.'\n",
    "\n",
    "def summarise_doc(request: str) -> str:\n",
    "  \"\"\"Execute the request on the uploaded document.\"\"\"\n",
    "  # Set the temperature low to stabilise the output.\n",
    "  config = types.GenerateContentConfig(temperature=0.2, top_p=0.95, top_k=30)\n",
    "  response = client.models.generate_content(\n",
    "      model='gemini-2.0-flash',\n",
    "      config=config,\n",
    "      contents=[request, document_file],\n",
    "  )\n",
    "\n",
    "  return response.text\n",
    "\n",
    "summary = summarise_doc(request)\n",
    "Markdown(summary)"
   ]
  },
  {
   "cell_type": "code",
   "execution_count": 14,
   "id": "0a681bc6",
   "metadata": {},
   "outputs": [
    {
     "data": {
      "text/markdown": [
       "Here's a summary of the ECB's economic policy based on the provided document:\n",
       "\n",
       "1.  **ECB's Stance on Inflation:**\n",
       "    *   The ECB believes the disinflation process is \"well on track.\"\n",
       "    *   Both headline and core inflation declined in March.\n",
       "    *   Most measures of underlying inflation suggest it will settle around the Governing Council's 2% medium-term target on a sustained basis.\n",
       "    *   The ECB is determined to ensure inflation stabilizes sustainably at its 2% medium-term target.\n",
       "\n",
       "2.  **ECB's Recent Actions Related to Monetary Policy:**\n",
       "    *   The Governing Council decided to lower the three key ECB interest rates by 25 basis points.\n",
       "    *   Specifically, the deposit facility rate was lowered, which is the rate through which the Governing Council steers the monetary policy stance.\n",
       "    *   The interest rates on the deposit facility, the main refinancing operations, and the marginal lending facility will be decreased to 2.25%, 2.40%, and 2.65% respectively, with effect from 23 April 2025.\n",
       "    *   The APP and PEPP portfolios are declining at a measured and predictable pace, as the Eurosystem no longer reinvests the principal payments from maturing securities.\n",
       "\n",
       "3.  **ECB's View on Economic Growth in the Euro Area:**\n",
       "    *   The euro area economy has been building up some resilience against global shocks.\n",
       "    *   The outlook for growth has deteriorated owing to rising trade tensions.\n",
       "    *   Increased uncertainty is likely to reduce confidence among households and firms.\n",
       "    *   The adverse and volatile market response to the trade tensions is likely to have a tightening impact on financing conditions.\n",
       "    *   These factors may further weigh on the economic outlook for the euro area.\n",
       "    *   The economy is likely to have grown in the first quarter of the year, and manufacturing has shown signs of stabilisation.\n",
       "\n",
       "**Economic Policy Summary:**\n",
       "\n",
       "The ECB's economic policy is focused on achieving its 2% medium-term inflation target while supporting economic growth in the euro area. The current policy stance involves:\n",
       "\n",
       "*   **Lowering Interest Rates:** To stimulate economic activity and support the disinflation process.\n",
       "*   **Data-Dependent Approach:** The ECB will make decisions on a meeting-by-meeting basis, based on incoming economic and financial data, the dynamics of underlying inflation, and the strength of monetary policy transmission.\n",
       "*   **Flexibility:** The ECB stands ready to adjust all of its instruments within its mandate to ensure that inflation stabilizes sustainably at its 2% target and to preserve the smooth functioning of monetary policy transmission.\n",
       "*   **Addressing Trade Tensions:** The ECB acknowledges that rising trade tensions pose a risk to economic growth and is monitoring the situation closely.\n",
       "*   **Fiscal and Structural Policies:** The ECB emphasizes the importance of fiscal and structural policies to make the euro area economy more productive, competitive, and resilient.\n"
      ],
      "text/plain": [
       "<IPython.core.display.Markdown object>"
      ]
     },
     "execution_count": 14,
     "metadata": {},
     "output_type": "execute_result"
    }
   ],
   "source": [
    "# Few-shot prompting\n",
    "request = '''1. What is the ECB's stance on inflation in the latest report?\n",
    "            2. Describe the ECB’s recent actions related to monetary policy.\n",
    "            3. Summarize the ECB's view on economic growth in the euro area.\n",
    "            Tell me about the economic policy here.'''\n",
    "\n",
    "def summarise_doc(request: str) -> str:\n",
    "  \"\"\"Execute the request on the uploaded document.\"\"\"\n",
    "  # Set the temperature low to stabilise the output.\n",
    "  config = types.GenerateContentConfig(temperature=0.1, top_p=0.9, top_k=20)\n",
    "  response = client.models.generate_content(\n",
    "      model='gemini-2.0-flash',\n",
    "      config=config,\n",
    "      contents=[request, document_file],\n",
    "  )\n",
    "\n",
    "  return response.text\n",
    "\n",
    "summary = summarise_doc(request)\n",
    "Markdown(summary)"
   ]
  },
  {
   "cell_type": "code",
   "execution_count": 15,
   "id": "4ff56d9b",
   "metadata": {},
   "outputs": [
    {
     "data": {
      "text/markdown": [
       "Based on the provided text from the ECB's statement (dated April 17, 2025), it doesn't contain a specific numerical forecast for economic growth, but it does provide insights into their assessment and the factors they are considering.\n",
       "\n",
       "Here's a breakdown of how to interpret the ECB's outlook:\n",
       "\n",
       "**1. Overall Assessment:**\n",
       "\n",
       "*   **Growth Outlook Deteriorated:** The ECB clearly states the outlook for growth has deteriorated due to rising trade tensions. This implies they expect slower growth than previously anticipated.\n",
       "*   **Resilience Against Shocks:**  The euro area economy has been building up some resilience against global shocks (as stated in the document).\n",
       "*   **Likely Grew in Q1:** The document mentions that the economy is likely to have grown in the first quarter of the year.\n",
       "\n",
       "**2. Factors Weighing on Growth:**\n",
       "\n",
       "*   **Trade Tensions:**  Increased global trade tensions are a key concern, creating uncertainty and dampening exports.\n",
       "*   **Uncertainty:** Increased uncertainty, likely due to trade tensions and geopolitical events, reduces confidence among households and firms, leading to less spending and investment.\n",
       "*   **Tightening Financing Conditions:** Adverse reactions to the trade tensions are likely to tighten financing conditions, making it more expensive for businesses to borrow and invest.\n",
       "*   **Disruptions to International Commerce:** Disruptions to international commerce is weighing on business investment.\n",
       "*   **Geopolitical Uncertainty:** Geopolitical tensions, such as Russia's unjustified war against Ukraine and the tragic conflict in the Middle East, also remain a major source of uncertainty.\n",
       "\n",
       "**3. Factors Supporting Growth:**\n",
       "\n",
       "*   **Strong Labor Market:** A strong labor market with low unemployment is seen as a support for spending.\n",
       "*   **Higher Real Incomes:**  Higher real incomes (likely due to wages rising faster than inflation) should support spending.\n",
       "*   **Monetary Policy Impact:**  Previous (and potentially future) monetary policy easing (interest rate cuts) is expected to stimulate spending.\n",
       "*   **Defense and Infrastructure Spending:** Increased defense and infrastructure investments at national and EU levels should bolster manufacturing.\n",
       "\n",
       "**4. Risks to the Outlook:**\n",
       "\n",
       "*   **Downside Risks Increased:** The ECB acknowledges that downside risks to economic growth have increased.\n",
       "*   **Trade Tensions:** The escalation of trade tensions is seen as a significant downside risk, potentially dampening exports, investment, and consumption.\n",
       "\n",
       "**5. Key Considerations and Actions by the ECB**\n",
       "\n",
       "*   **Data Dependent:** Given the exceptional uncertainty, the ECB will take a \"data-dependent and meeting-by-meeting approach\" to monetary policy decisions.\n",
       "*   **Inflation Outlook:** Interest rate decisions will be based on the assessment of the inflation outlook, underlying inflation dynamics, and the strength of monetary policy transmission.\n",
       "*   **Not Pre-committing:** The ECB is not pre-committing to a particular interest rate path.\n",
       "*   **Adjust All Instruments:** The Governing Council stands ready to adjust all of its instruments within its mandate to ensure that inflation stabilises sustainably at its 2% target over the medium term and to preserve the smooth functioning of monetary policy transmission.\n",
       "\n",
       "**In summary, while the ECB doesn't give a precise GDP growth percentage, the document leans toward a cautious outlook. They signal slower growth than previously expected due to trade tensions and uncertainty.** They highlight some factors that could provide support, but emphasize the increased downside risks. The ECB's actions and statements indicate a readiness to act if the economic or inflation situation deteriorates.\n"
      ],
      "text/plain": [
       "<IPython.core.display.Markdown object>"
      ]
     },
     "execution_count": 15,
     "metadata": {},
     "output_type": "execute_result"
    }
   ],
   "source": [
    "# Chain-of-thought prompting\n",
    "request = \"What is the ECB's forecast for economic growth? Break it down into steps and think through the logic behind the ECB's predictions\"\n",
    "\n",
    "def summarise_doc(request: str) -> str:\n",
    "  \"\"\"Execute the request on the uploaded document.\"\"\"\n",
    "  # Set the temperature low to stabilise the output.\n",
    "  config = types.GenerateContentConfig(temperature=0.9, top_p=0.99, top_k=40)\n",
    "  response = client.models.generate_content(\n",
    "      model='gemini-2.0-flash',\n",
    "      config=config,\n",
    "      contents=[request, document_file],\n",
    "  )\n",
    "\n",
    "  return response.text\n",
    "\n",
    "summary = summarise_doc(request)\n",
    "Markdown(summary)"
   ]
  }
 ],
 "metadata": {
  "kernelspec": {
   "display_name": ".venv",
   "language": "python",
   "name": "python3"
  },
  "language_info": {
   "codemirror_mode": {
    "name": "ipython",
    "version": 3
   },
   "file_extension": ".py",
   "mimetype": "text/x-python",
   "name": "python",
   "nbconvert_exporter": "python",
   "pygments_lexer": "ipython3",
   "version": "3.12.9"
  }
 },
 "nbformat": 4,
 "nbformat_minor": 5
}
