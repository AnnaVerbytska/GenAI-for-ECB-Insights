{
 "cells": [
  {
   "cell_type": "code",
   "execution_count": 24,
   "id": "5224974a",
   "metadata": {},
   "outputs": [],
   "source": [
    "# Import libraries\n",
    "from google import genai\n",
    "from google.genai import types\n",
    "from google.api_core import retry\n",
    "from IPython.display import HTML, Markdown, display\n",
    "\n",
    "# Set up secret credentials\n",
    "from dotenv import load_dotenv \n",
    "load_dotenv()\n",
    "import sys\n",
    "import os\n",
    "import requests\n",
    "import os"
   ]
  },
  {
   "cell_type": "code",
   "execution_count": 25,
   "id": "a2199f84",
   "metadata": {},
   "outputs": [],
   "source": [
    "# Error handling and retry logic not to worry about per-minute quota\n",
    "is_retriable = lambda e: (isinstance(e, genai.errors.APIError) and e.code in {429, 503})\n",
    "\n",
    "genai.models.Models.generate_content = retry.Retry(\n",
    "    predicate=is_retriable)(genai.models.Models.generate_content)"
   ]
  },
  {
   "cell_type": "code",
   "execution_count": 26,
   "id": "a12b001f",
   "metadata": {},
   "outputs": [],
   "source": [
    "# Set up your Google API key imported from .env file\n",
    "GOOGLE_API_KEY = os.getenv(\"GOOGLE_API_KEY\")\n",
    "\n",
    "# Initialize Gemini client\n",
    "client = genai.Client(api_key=GOOGLE_API_KEY)"
   ]
  },
  {
   "cell_type": "code",
   "execution_count": 27,
   "id": "f6bce589",
   "metadata": {},
   "outputs": [],
   "source": [
    "# Fetch the data for prompting\n",
    "url = \"https://www.ecb.europa.eu/press/press_conference/monetary-policy-statement/shared/pdf/ecb.ds250417~e613e58d41.es.pdf\"\n",
    "path = \"data/ecb.pdf\"\n",
    "os.makedirs(os.path.dirname(path), exist_ok=True)\n",
    "with open(path, \"wb\") as f:\n",
    "    f.write(requests.get(url).content)\n",
    "\n",
    "# Upload the file\n",
    "document_file = client.files.upload(file=path)"
   ]
  },
  {
   "cell_type": "markdown",
   "id": "2dbf3a4f",
   "metadata": {},
   "source": [
    "PROMPTING \n",
    "\n",
    "\n",
    "1) *Zero-shot prompting* with parameters set for a slight creativity\n",
    "2) *Few-shot prompting* with parameters set for a strict facticity\n",
    "3) *Chain-of-thought prompting* with parameters set for the out-of-the-box ideas\n"
   ]
  },
  {
   "cell_type": "code",
   "execution_count": 28,
   "id": "acde9198",
   "metadata": {},
   "outputs": [
    {
     "data": {
      "text/markdown": [
       "Here's a summary of the economic policy outlined in the document:\n",
       "\n",
       "**Key Policy Decisions:**\n",
       "\n",
       "*   **Interest Rate Cut:** The European Central Bank (ECB) Governing Council decided to lower the three key ECB interest rates by 25 basis points. This includes lowering the deposit facility rate to 2.25%, the main refinancing operations rate to 2.40%, and the marginal lending facility rate to 2.65%, effective April 23, 2025.\n",
       "*   **Asset Purchase Programs:** The Asset Purchase Programme (APP) and Pandemic Emergency Purchase Programme (PEPP) portfolios are declining as the Eurosystem no longer reinvests principal payments from maturing securities.\n",
       "\n",
       "**Rationale:**\n",
       "\n",
       "*   **Inflation Target:** The primary goal is to ensure inflation stabilizes sustainably at the 2% medium-term target.\n",
       "*   **Data-Dependent Approach:** The ECB will take a data-dependent, meeting-by-meeting approach to determine the appropriate monetary policy stance, considering the inflation outlook, economic and financial data, underlying inflation dynamics, and the strength of monetary policy transmission.\n",
       "*   **Disinflation Progress:** The ECB believes the disinflation process is on track, with both headline and core inflation declining. They expect inflation to settle around the 2% target.\n",
       "*   **Economic Outlook:** The euro area economy has shown some resilience, but the outlook has deteriorated due to rising trade tensions and increased uncertainty.\n",
       "\n",
       "**Economic Assessment:**\n",
       "\n",
       "*   **Economic Activity:** The economic outlook is clouded by uncertainty, with euro area exporters facing new trade barriers. Disruptions to international commerce, financial market tensions, and geopolitical uncertainty are weighing on business investment.\n",
       "*   **Inflation:** Annual inflation edged down to 2.2% in March. Most indicators of underlying inflation point to a sustained return to the 2% target. Wages are gradually moderating.\n",
       "*   **Risks:** Downside risks to economic growth have increased due to global trade tensions and geopolitical uncertainties. Increasing global trade disruptions add more uncertainty to the inflation outlook.\n",
       "*   **Financial Conditions:** Risk-free interest rates have declined in response to escalating trade tensions. The euro has strengthened as investor sentiment has proven more resilient towards the euro area.\n",
       "\n",
       "**Other Considerations:**\n",
       "\n",
       "*   **Fiscal and Structural Policies:** The ECB emphasizes the importance of fiscal and structural policies to make the euro area economy more productive, competitive, and resilient.\n",
       "*   **Digital Euro:** The ECB highlights the importance of rapidly establishing the legislative framework for the potential introduction of a digital euro.\n",
       "*   **Transmission Protection Instrument:** The Transmission Protection Instrument is available to counter unwarranted, disorderly market dynamics that pose a serious threat to the transmission of monetary policy across all euro area countries.\n",
       "\n",
       "In essence, the ECB is cautiously easing monetary policy to support economic growth while remaining committed to its inflation target. They are closely monitoring economic data and are prepared to adjust their policies as needed.\n"
      ],
      "text/plain": [
       "<IPython.core.display.Markdown object>"
      ]
     },
     "execution_count": 28,
     "metadata": {},
     "output_type": "execute_result"
    }
   ],
   "source": [
    "# Zero-shot prompting\n",
    "request = 'Tell me about the economic policy here.'\n",
    "\n",
    "def summarise_doc(request: str) -> str:\n",
    "  \"\"\"Execute the request on the uploaded document.\"\"\"\n",
    "  # Set the temperature low to stabilise the output.\n",
    "  config = types.GenerateContentConfig(temperature=0.2, top_p=0.95, top_k=30)\n",
    "  response = client.models.generate_content(\n",
    "      model='gemini-2.0-flash',\n",
    "      config=config,\n",
    "      contents=[request, document_file],\n",
    "  )\n",
    "\n",
    "  return response.text\n",
    "\n",
    "summary = summarise_doc(request)\n",
    "Markdown(summary)"
   ]
  },
  {
   "cell_type": "code",
   "execution_count": 29,
   "id": "0a681bc6",
   "metadata": {},
   "outputs": [
    {
     "data": {
      "text/markdown": [
       "Here's a summary of the ECB's economic policy based on the provided document:\n",
       "\n",
       "1.  **ECB's Stance on Inflation:**\n",
       "    *   The ECB believes the disinflation process is \"well on track.\"\n",
       "    *   Both headline and core inflation declined in March.\n",
       "    *   Most measures of underlying inflation suggest inflation will settle around the Governing Council's 2% medium-term target on a sustained basis.\n",
       "    *   The ECB is determined to ensure that inflation stabilizes sustainably at its 2% medium-term target.\n",
       "\n",
       "2.  **ECB's Recent Actions Related to Monetary Policy:**\n",
       "    *   The Governing Council decided to lower the three key ECB interest rates by 25 basis points.\n",
       "    *   Specifically, the deposit facility rate was lowered.\n",
       "    *   The interest rates on the deposit facility, the main refinancing operations and the marginal lending facility will be decreased to 2.25%, 2.40% and 2.65% respectively, with effect from 23 April 2025.\n",
       "    *   The APP and PEPP portfolios are declining at a measured and predictable pace, as the Eurosystem no longer reinvests the principal payments from maturing securities.\n",
       "\n",
       "3.  **ECB's View on Economic Growth in the Euro Area:**\n",
       "    *   The euro area economy has been building up some resilience against global shocks.\n",
       "    *   The outlook for growth has deteriorated owing to rising trade tensions.\n",
       "    *   Increased uncertainty is likely to reduce confidence among households and firms.\n",
       "    *   The adverse and volatile market response to the trade tensions is likely to have a tightening impact on financing conditions.\n",
       "    *   The economy is likely to have grown in the first quarter of the year, and manufacturing has shown signs of stabilisation.\n",
       "\n",
       "**Overall Economic Policy Summary:**\n",
       "\n",
       "The ECB's economic policy is focused on achieving its 2% medium-term inflation target while navigating a period of economic uncertainty. The ECB is taking a data-dependent, meeting-by-meeting approach to monetary policy, meaning it will adjust its policies based on incoming economic and financial data.\n",
       "\n",
       "Key elements of the policy include:\n",
       "\n",
       "*   **Interest Rate Adjustments:** Lowering interest rates to stimulate the economy and support the disinflation process.\n",
       "*   **Quantitative Tightening:** Reducing the size of its balance sheet by not reinvesting proceeds from maturing assets in the APP and PEPP programs.\n",
       "*   **Flexibility:** Being prepared to adjust all its instruments to ensure inflation stabilizes at the target and to preserve the smooth functioning of monetary policy transmission.\n",
       "*   **Monitoring:** Closely monitoring economic and financial data, underlying inflation dynamics, and the strength of monetary policy transmission.\n",
       "*   **Addressing Risks:** Being aware of downside risks to economic growth, particularly from trade tensions and geopolitical uncertainty.\n",
       "*   **Fiscal and Structural Policies:** Emphasizing the importance of fiscal and structural policies to make the euro area economy more productive, competitive, and resilient.\n"
      ],
      "text/plain": [
       "<IPython.core.display.Markdown object>"
      ]
     },
     "execution_count": 29,
     "metadata": {},
     "output_type": "execute_result"
    }
   ],
   "source": [
    "# Few-shot prompting\n",
    "request = '''1. What is the ECB's stance on inflation in the latest report?\n",
    "            2. Describe the ECB’s recent actions related to monetary policy.\n",
    "            3. Summarize the ECB's view on economic growth in the euro area.\n",
    "            Tell me about the economic policy here.'''\n",
    "\n",
    "def summarise_doc(request: str) -> str:\n",
    "  \"\"\"Execute the request on the uploaded document.\"\"\"\n",
    "  # Set the temperature low to stabilise the output.\n",
    "  config = types.GenerateContentConfig(temperature=0.1, top_p=0.9, top_k=20)\n",
    "  response = client.models.generate_content(\n",
    "      model='gemini-2.0-flash',\n",
    "      config=config,\n",
    "      contents=[request, document_file],\n",
    "  )\n",
    "\n",
    "  return response.text\n",
    "\n",
    "summary = summarise_doc(request)\n",
    "Markdown(summary)"
   ]
  },
  {
   "cell_type": "code",
   "execution_count": 30,
   "id": "4ff56d9b",
   "metadata": {},
   "outputs": [
    {
     "data": {
      "text/markdown": [
       "Okay, let's break down the ECB's economic growth forecast based on the provided document. The image displays the Combined monetary policy decisions and statement released by the European Central Bank (ECB) on April 17, 2025.\n",
       "\n",
       "**1. Overall Assessment**\n",
       "\n",
       "*   **Growth Deterioration:** The most critical takeaway is that the ECB believes the outlook for economic growth in the Euro area has **deteriorated**. The document explicitly states: \"...the outlook for growth has deteriorated owing to rising trade tensions.\"\n",
       "*   **Uncertainty:** The ECB emphasizes \"exceptional uncertainty\" surrounding the economic outlook.\n",
       "\n",
       "**2. Factors Weighing on Growth (Downside Risks)**\n",
       "\n",
       "*   **Trade Tensions:** Rising trade tensions are a primary concern. The ECB believes this will dampen exports and potentially drag down investment and consumption. The major escalation in global trade tensions and associated uncertainties will likely lower euro area growth by dampening exports, and it may drag down investment and consumption.\n",
       "*   **Uncertainty:** Increased uncertainty is likely to reduce confidence among households and firms. Deteriorating financial market sentiment could lead to tighter financing conditions, increase risk aversion and make firms and households less willing to invest and consume.\n",
       "*   **Financial Market Volatility:** Adverse and volatile market response to trade tensions is expected to tighten financing conditions, further weighing on the economic outlook.\n",
       "*   **Geopolitical Tensions:** The Russia-Ukraine war and the Middle East conflict continue to be sources of uncertainty.\n",
       "*   **Disruptions to International Commerce, financial market tensions and geopolitical uncertainty** are weighing on business investment.\n",
       "*   **Consumers** are becoming more cautious about the future, they may hold back from spending.\n",
       "\n",
       "**3. Balancing Factors (Potential Upside)**\n",
       "\n",
       "*   **Resilience:** The ECB acknowledges that the Euro area economy has been building resilience against global shocks.\n",
       "*   **First Quarter Growth:** The economy likely grew in the first quarter of the year.\n",
       "*   **Manufacturing Stabilization:** Manufacturing has shown signs of stabilization.\n",
       "*   **Strong Labor Market:** A strong labor market and higher real incomes are expected to underpin spending. Unemployment fell to 6.1 per cent in February, its lowest level since the launch of the euro.\n",
       "*   **Fiscal Policy/Investment:** Policy initiatives at the national and EU levels to increase defense spending and infrastructure investment are expected to support manufacturing.\n",
       "*   **Increase in defence and infrastructure spending** would add to growth.\n",
       "\n",
       "**4. Logic Behind the ECB's Forecast**\n",
       "\n",
       "The ECB's forecast is based on a combination of factors:\n",
       "\n",
       "*   **Data-Driven:** The ECB emphasizes a \"data-dependent and meeting-by-meeting approach.\" It will closely monitor incoming economic and financial data to assess the situation.\n",
       "*   **Inflation Outlook:** The ECB's primary mandate is price stability. It is focused on ensuring inflation returns to its 2% medium-term target. The decision to lower interest rates is partly driven by the expectation that inflation will settle around the 2% target.\n",
       "*   **Underlying Inflation Dynamics:** The ECB is analyzing the factors that influence underlying inflation, such as wage growth, profits, and productivity.\n",
       "*   **Monetary Policy Transmission:** The ECB is assessing the effectiveness of its monetary policy in influencing the economy (i.e., how well interest rate changes translate into changes in borrowing costs, investment, and consumption).\n",
       "*   **Risk Assessment:** The ECB explicitly identifies both downside and upside risks to the forecast. The downside risks appear to be a primary factor in the decision-making.\n",
       "\n",
       "**5. In Summary**\n",
       "\n",
       "The ECB's forecast appears cautiously pessimistic. While there are some positive signs in the Euro area economy, the ECB is concerned about the potential negative impacts of rising trade tensions, geopolitical uncertainty, and their influence on confidence and financial markets. Therefore, while they may have expected a period of growth in the Eurozone, the risks of the negative impacts of trade tensions and other geopolitical factors have caused them to revise their predictions. This has made them more cautious and has led them to lower interest rates in an effort to stimulate growth.\n",
       "\n",
       "**Important Note:** This is an interpretation based *solely* on the provided document. A full understanding would require a review of additional data, forecasts, and statements from the ECB."
      ],
      "text/plain": [
       "<IPython.core.display.Markdown object>"
      ]
     },
     "execution_count": 30,
     "metadata": {},
     "output_type": "execute_result"
    }
   ],
   "source": [
    "# Chain-of-thought prompting\n",
    "request = \"What is the ECB's forecast for economic growth? Break it down into steps and think through the logic behind the ECB's predictions\"\n",
    "\n",
    "def summarise_doc(request: str) -> str:\n",
    "  \"\"\"Execute the request on the uploaded document.\"\"\"\n",
    "  # Set the temperature low to stabilise the output.\n",
    "  config = types.GenerateContentConfig(temperature=0.9, top_p=0.99, top_k=40)\n",
    "  response = client.models.generate_content(\n",
    "      model='gemini-2.0-flash',\n",
    "      config=config,\n",
    "      contents=[request, document_file],\n",
    "  )\n",
    "\n",
    "  return response.text\n",
    "\n",
    "summary = summarise_doc(request)\n",
    "Markdown(summary)"
   ]
  }
 ],
 "metadata": {
  "kernelspec": {
   "display_name": ".venv",
   "language": "python",
   "name": "python3"
  },
  "language_info": {
   "codemirror_mode": {
    "name": "ipython",
    "version": 3
   },
   "file_extension": ".py",
   "mimetype": "text/x-python",
   "name": "python",
   "nbconvert_exporter": "python",
   "pygments_lexer": "ipython3",
   "version": "3.12.9"
  }
 },
 "nbformat": 4,
 "nbformat_minor": 5
}
